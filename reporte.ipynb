{
 "cells": [
  {
   "cell_type": "code",
   "execution_count": 1,
   "metadata": {},
   "outputs": [],
   "source": [
    "import pandas as pd"
   ]
  },
  {
   "cell_type": "code",
   "execution_count": 2,
   "metadata": {},
   "outputs": [],
   "source": [
    "SHEET_ID = \"1PznZPQOU1OFzB3QMCWxCoQYpYIbeU9FOQvWrR0wKHes\"\n",
    "SHEET_URL = f\"https://docs.google.com/spreadsheets/d/{SHEET_ID}/export?format=csv\""
   ]
  },
  {
   "cell_type": "code",
   "execution_count": 3,
   "metadata": {},
   "outputs": [],
   "source": [
    "df = pd.read_csv(SHEET_URL, parse_dates=[\"fecha\"], infer_datetime_format=True, dayfirst=True)"
   ]
  },
  {
   "cell_type": "code",
   "execution_count": 4,
   "metadata": {},
   "outputs": [],
   "source": [
    "df = df.set_index(\"fecha\")"
   ]
  },
  {
   "cell_type": "code",
   "execution_count": 5,
   "metadata": {},
   "outputs": [],
   "source": [
    "df[\"activos\"] = df[\"confirmados\"] - df[\"recuperados\"] - df[\"fallecidos\"]"
   ]
  },
  {
   "cell_type": "code",
   "execution_count": 6,
   "metadata": {},
   "outputs": [],
   "source": [
    "df[\"nuevos\"] = df[\"confirmados\"].diff()\n",
    "df[\"nuevos\"] = df[\"nuevos\"].fillna(0)\n",
    "df[\"nuevos\"] = df[\"nuevos\"].astype(int)"
   ]
  },
  {
   "cell_type": "code",
   "execution_count": 7,
   "metadata": {},
   "outputs": [],
   "source": [
    "df[\"nuevos-mm7d\"] = df[\"nuevos\"].rolling(7).mean()\n",
    "df[\"nuevos-mm7d\"] = df[\"nuevos-mm7d\"].fillna(0).astype(int)"
   ]
  },
  {
   "cell_type": "code",
   "execution_count": 8,
   "metadata": {},
   "outputs": [
    {
     "name": "stdout",
     "output_type": "stream",
     "text": [
      "Columnas: ['confirmados', 'recuperados', 'fallecidos', 'activos', 'nuevos', 'nuevos-mm7d']\n"
     ]
    }
   ],
   "source": [
    "print(f\"Columnas: {df.columns.tolist()}\")"
   ]
  },
  {
   "cell_type": "code",
   "execution_count": null,
   "metadata": {},
   "outputs": [],
   "source": [
    "# Creamos los gráficos\n",
    "\n",
    "from bokeh.io import output_notebook\n",
    "from bokeh.plotting import figure, show, ColumnDataSource\n",
    "from bokeh.models import NumeralTickFormatter\n",
    "from bokeh.models.tools import HoverTool\n",
    "from bokeh.palettes import Category10\n",
    "from bokeh.resources import INLINE\n",
    "import datetime"
   ]
  },
  {
   "cell_type": "code",
   "execution_count": null,
   "metadata": {},
   "outputs": [],
   "source": [
    "output_notebook()"
   ]
  },
  {
   "cell_type": "code",
   "execution_count": null,
   "metadata": {},
   "outputs": [],
   "source": [
    "df.index.dtype"
   ]
  },
  {
   "cell_type": "code",
   "execution_count": null,
   "metadata": {},
   "outputs": [],
   "source": [
    "df = df.loc[\"2020-07-01\":]\n",
    "df[\"fecha_str\"] = df.index.astype(str)\n",
    "\n",
    "source = ColumnDataSource(df)\n",
    "\n",
    "TOOLTIPS = [(\"Fecha\", \"@{fecha_str}\"),\n",
    "            (\"Casos activos\", \"@activos\"),            \n",
    "            (\"Nuevos casos\", \"@nuevos\"),\n",
    "            (\"Media móvil\", \"@{nuevos-mm7d}\")]"
   ]
  },
  {
   "cell_type": "code",
   "execution_count": null,
   "metadata": {},
   "outputs": [],
   "source": [
    "p = figure(plot_width=800, plot_height=540, name=\"Nuevos casos\", x_axis_type='datetime', \n",
    "                 tooltips=TOOLTIPS)"
   ]
  },
  {
   "cell_type": "code",
   "execution_count": null,
   "metadata": {},
   "outputs": [],
   "source": [
    "p.vbar(x=\"fecha\", top=\"activos\", source=source,\n",
    "                 width=datetime.timedelta(days=1),\n",
    "                 legend_label=\"Casos activos\",\n",
    "                 line_width=0,\n",
    "                 color=Category10[4][1],\n",
    "                 alpha=0.5,\n",
    "#                 visible=False\n",
    "      )\n",
    "\n",
    "p.vbar(x=\"fecha\", top=\"nuevos\", source=source,\n",
    "                 width=datetime.timedelta(days=1),\n",
    "                 legend_label=\"Nuevos casos\",\n",
    "                 line_width=0,\n",
    "                 color=Category10[4][0],\n",
    "                 alpha=0.65,\n",
    "      )\n",
    "\n",
    "p.line(x=\"fecha\", y=\"nuevos-mm7d\", source=source,\n",
    "                 legend_label=\"Nuevos casos (media móvil)\",\n",
    "                 line_width=1.75,\n",
    "                 color=Category10[4][3],\n",
    "                 alpha=0.65,\n",
    "      )\n",
    "\n",
    "p.legend.click_policy = 'hide'\n",
    "p.legend.location = 'top_left'\n",
    "p.legend.label_text_font_size = '8pt'\n",
    "p.yaxis.formatter = NumeralTickFormatter(format='0,0')\n",
    "p.xaxis.axis_label = \"Fecha\"\n",
    "p.yaxis.axis_label = \"Número de casos\"\n",
    "#p.title.text = \"Reporte de casos de COVID-19 en el distrito de Saavedra (Provincia de Buenos Aires)\""
   ]
  },
  {
   "cell_type": "code",
   "execution_count": null,
   "metadata": {
    "scrolled": true
   },
   "outputs": [],
   "source": [
    "show(p)"
   ]
  },
  {
   "cell_type": "code",
   "execution_count": null,
   "metadata": {},
   "outputs": [],
   "source": [
    "# A partir de acá se genera la página (index.html)\n",
    "\n",
    "import panel as pn\n",
    "import pytz"
   ]
  },
  {
   "cell_type": "code",
   "execution_count": null,
   "metadata": {},
   "outputs": [],
   "source": [
    "pn.extension()"
   ]
  },
  {
   "cell_type": "code",
   "execution_count": null,
   "metadata": {},
   "outputs": [],
   "source": [
    "ar = pytz.timezone('America/Argentina/Buenos_Aires')\n",
    "now = datetime.datetime.now(ar)\n",
    "dt_string = now.strftime(\"%d-%m-%Y %H:%M\")"
   ]
  },
  {
   "cell_type": "code",
   "execution_count": null,
   "metadata": {},
   "outputs": [],
   "source": [
    "header = pn.pane.Markdown(f\"\"\"\n",
    "# COVID-19 -- Distrito de Saavedra (Provincia de Buenos Aires)\n",
    "\n",
    "Datos obtenidos de la página de Instagram de la [Municipalidad de Saavedra](https://www.instagram.com/munisaavedrapigue/).\n",
    "\n",
    "**Última actualización:** {dt_string}\n",
    "\"\"\", width=800, margin=(0, 0, 10, 0)\n",
    ")"
   ]
  },
  {
   "cell_type": "code",
   "execution_count": null,
   "metadata": {},
   "outputs": [],
   "source": [
    "pn.Column(header, \n",
    "          p, \n",
    "          margin=(20, 10, 40, 40)\n",
    "         ).save(\"index.html\", \n",
    "                title=\"COVID-19 -- Distrito de Saavedra (Provincia de Buenos Aires)\", \n",
    "                resources=INLINE)"
   ]
  },
  {
   "cell_type": "code",
   "execution_count": null,
   "metadata": {},
   "outputs": [],
   "source": [
    "# Guardar el programa y para cargar a github:\n",
    "# ./upload.sh\n",
    "# usuario: agostinaf"
   ]
  }
 ],
 "metadata": {
  "kernelspec": {
   "display_name": "covid-19",
   "language": "python",
   "name": "covid-19"
  },
  "language_info": {
   "codemirror_mode": {
    "name": "ipython",
    "version": 3
   },
   "file_extension": ".py",
   "mimetype": "text/x-python",
   "name": "python",
   "nbconvert_exporter": "python",
   "pygments_lexer": "ipython3",
   "version": "3.6.13"
  }
 },
 "nbformat": 4,
 "nbformat_minor": 5
}
